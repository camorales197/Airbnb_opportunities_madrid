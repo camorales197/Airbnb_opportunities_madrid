{
 "cells": [
  {
   "cell_type": "markdown",
   "metadata": {},
   "source": [
    "# Uncovering real estate investment opportunities in Madrid \n",
    "\n",
    "The objective of this project is to understand the general business of Airbnb in Madrid. In order to use it as a proxy to identify the best neighbourhoods to invest in real state. \n",
    "\n",
    "Thanks to http://insideairbnb.com/get-the-data.html we have got a dataset with information from Airbnb updated on 14 May 2019."
   ]
  },
  {
   "cell_type": "code",
   "execution_count": 88,
   "metadata": {},
   "outputs": [
    {
     "data": {
      "text/html": [
       "<div>\n",
       "<style scoped>\n",
       "    .dataframe tbody tr th:only-of-type {\n",
       "        vertical-align: middle;\n",
       "    }\n",
       "\n",
       "    .dataframe tbody tr th {\n",
       "        vertical-align: top;\n",
       "    }\n",
       "\n",
       "    .dataframe thead th {\n",
       "        text-align: right;\n",
       "    }\n",
       "</style>\n",
       "<table border=\"1\" class=\"dataframe\">\n",
       "  <thead>\n",
       "    <tr style=\"text-align: right;\">\n",
       "      <th></th>\n",
       "      <th>id</th>\n",
       "      <th>name</th>\n",
       "      <th>host_id</th>\n",
       "      <th>host_name</th>\n",
       "      <th>neighbourhood_group</th>\n",
       "      <th>neighbourhood</th>\n",
       "      <th>latitude</th>\n",
       "      <th>longitude</th>\n",
       "      <th>room_type</th>\n",
       "      <th>price</th>\n",
       "      <th>minimum_nights</th>\n",
       "      <th>number_of_reviews</th>\n",
       "      <th>last_review</th>\n",
       "      <th>reviews_per_month</th>\n",
       "      <th>calculated_host_listings_count</th>\n",
       "      <th>availability_365</th>\n",
       "    </tr>\n",
       "  </thead>\n",
       "  <tbody>\n",
       "    <tr>\n",
       "      <th>0</th>\n",
       "      <td>6369</td>\n",
       "      <td>Rooftop terrace room with ensuite bathroom, Airc.</td>\n",
       "      <td>13660</td>\n",
       "      <td>Simon</td>\n",
       "      <td>Chamartín</td>\n",
       "      <td>Hispanoamérica</td>\n",
       "      <td>40.45628</td>\n",
       "      <td>-3.67763</td>\n",
       "      <td>Private room</td>\n",
       "      <td>70</td>\n",
       "      <td>3</td>\n",
       "      <td>63</td>\n",
       "      <td>2019-04-30</td>\n",
       "      <td>0.56</td>\n",
       "      <td>2</td>\n",
       "      <td>73</td>\n",
       "    </tr>\n",
       "    <tr>\n",
       "      <th>1</th>\n",
       "      <td>21853</td>\n",
       "      <td>Bright and airy room</td>\n",
       "      <td>83531</td>\n",
       "      <td>Abdel</td>\n",
       "      <td>Latina</td>\n",
       "      <td>Cármenes</td>\n",
       "      <td>40.40341</td>\n",
       "      <td>-3.74084</td>\n",
       "      <td>Private room</td>\n",
       "      <td>17</td>\n",
       "      <td>4</td>\n",
       "      <td>33</td>\n",
       "      <td>2018-07-15</td>\n",
       "      <td>0.59</td>\n",
       "      <td>2</td>\n",
       "      <td>0</td>\n",
       "    </tr>\n",
       "    <tr>\n",
       "      <th>2</th>\n",
       "      <td>24805</td>\n",
       "      <td>Gran Via Studio Madrid</td>\n",
       "      <td>101471</td>\n",
       "      <td>Iraido</td>\n",
       "      <td>Centro</td>\n",
       "      <td>Universidad</td>\n",
       "      <td>40.42202</td>\n",
       "      <td>-3.70395</td>\n",
       "      <td>Entire home/apt</td>\n",
       "      <td>60</td>\n",
       "      <td>5</td>\n",
       "      <td>2</td>\n",
       "      <td>2017-07-03</td>\n",
       "      <td>0.04</td>\n",
       "      <td>1</td>\n",
       "      <td>355</td>\n",
       "    </tr>\n",
       "  </tbody>\n",
       "</table>\n",
       "</div>"
      ],
      "text/plain": [
       "      id                                               name  host_id  \\\n",
       "0   6369  Rooftop terrace room with ensuite bathroom, Airc.    13660   \n",
       "1  21853                               Bright and airy room    83531   \n",
       "2  24805                             Gran Via Studio Madrid   101471   \n",
       "\n",
       "  host_name neighbourhood_group   neighbourhood  latitude  longitude  \\\n",
       "0     Simon           Chamartín  Hispanoamérica  40.45628   -3.67763   \n",
       "1     Abdel              Latina        Cármenes  40.40341   -3.74084   \n",
       "2    Iraido              Centro     Universidad  40.42202   -3.70395   \n",
       "\n",
       "         room_type  price  minimum_nights  number_of_reviews last_review  \\\n",
       "0     Private room     70               3                 63  2019-04-30   \n",
       "1     Private room     17               4                 33  2018-07-15   \n",
       "2  Entire home/apt     60               5                  2  2017-07-03   \n",
       "\n",
       "   reviews_per_month  calculated_host_listings_count  availability_365  \n",
       "0               0.56                               2                73  \n",
       "1               0.59                               2                 0  \n",
       "2               0.04                               1               355  "
      ]
     },
     "execution_count": 88,
     "metadata": {},
     "output_type": "execute_result"
    }
   ],
   "source": [
    "import pandas as pd\n",
    "import numpy as np\n",
    "#import matplotlib.pyplot as plt\n",
    "#import seaborn as sns\n",
    "airbnb = pd.read_csv(\"data.csv\")\n",
    "airbnb.head(3)"
   ]
  },
  {
   "cell_type": "code",
   "execution_count": 89,
   "metadata": {},
   "outputs": [
    {
     "name": "stdout",
     "output_type": "stream",
     "text": [
      "(18808, 16)\n"
     ]
    },
    {
     "data": {
      "text/html": [
       "<div>\n",
       "<style scoped>\n",
       "    .dataframe tbody tr th:only-of-type {\n",
       "        vertical-align: middle;\n",
       "    }\n",
       "\n",
       "    .dataframe tbody tr th {\n",
       "        vertical-align: top;\n",
       "    }\n",
       "\n",
       "    .dataframe thead th {\n",
       "        text-align: right;\n",
       "    }\n",
       "</style>\n",
       "<table border=\"1\" class=\"dataframe\">\n",
       "  <thead>\n",
       "    <tr style=\"text-align: right;\">\n",
       "      <th></th>\n",
       "      <th>id</th>\n",
       "      <th>host_id</th>\n",
       "      <th>latitude</th>\n",
       "      <th>longitude</th>\n",
       "      <th>price</th>\n",
       "      <th>minimum_nights</th>\n",
       "      <th>number_of_reviews</th>\n",
       "      <th>reviews_per_month</th>\n",
       "      <th>calculated_host_listings_count</th>\n",
       "      <th>availability_365</th>\n",
       "    </tr>\n",
       "  </thead>\n",
       "  <tbody>\n",
       "    <tr>\n",
       "      <th>count</th>\n",
       "      <td>1.880800e+04</td>\n",
       "      <td>1.880800e+04</td>\n",
       "      <td>18808.000000</td>\n",
       "      <td>18808.000000</td>\n",
       "      <td>18808.00000</td>\n",
       "      <td>18808.000000</td>\n",
       "      <td>18808.000000</td>\n",
       "      <td>14860.000000</td>\n",
       "      <td>18808.000000</td>\n",
       "      <td>18808.000000</td>\n",
       "    </tr>\n",
       "    <tr>\n",
       "      <th>mean</th>\n",
       "      <td>2.097478e+07</td>\n",
       "      <td>8.627014e+07</td>\n",
       "      <td>40.420267</td>\n",
       "      <td>-3.695638</td>\n",
       "      <td>122.31678</td>\n",
       "      <td>4.092726</td>\n",
       "      <td>34.853732</td>\n",
       "      <td>2.054841</td>\n",
       "      <td>12.150468</td>\n",
       "      <td>150.284666</td>\n",
       "    </tr>\n",
       "    <tr>\n",
       "      <th>std</th>\n",
       "      <td>9.810985e+06</td>\n",
       "      <td>7.749516e+07</td>\n",
       "      <td>0.020824</td>\n",
       "      <td>0.026134</td>\n",
       "      <td>360.60064</td>\n",
       "      <td>18.280586</td>\n",
       "      <td>59.023326</td>\n",
       "      <td>1.966534</td>\n",
       "      <td>30.255443</td>\n",
       "      <td>128.518601</td>\n",
       "    </tr>\n",
       "    <tr>\n",
       "      <th>min</th>\n",
       "      <td>6.369000e+03</td>\n",
       "      <td>5.154000e+03</td>\n",
       "      <td>40.319600</td>\n",
       "      <td>-3.886430</td>\n",
       "      <td>1.00000</td>\n",
       "      <td>1.000000</td>\n",
       "      <td>0.000000</td>\n",
       "      <td>0.010000</td>\n",
       "      <td>1.000000</td>\n",
       "      <td>0.000000</td>\n",
       "    </tr>\n",
       "    <tr>\n",
       "      <th>25%</th>\n",
       "      <td>1.424060e+07</td>\n",
       "      <td>1.872099e+07</td>\n",
       "      <td>40.409867</td>\n",
       "      <td>-3.707570</td>\n",
       "      <td>37.00000</td>\n",
       "      <td>1.000000</td>\n",
       "      <td>1.000000</td>\n",
       "      <td>0.480000</td>\n",
       "      <td>1.000000</td>\n",
       "      <td>23.000000</td>\n",
       "    </tr>\n",
       "    <tr>\n",
       "      <th>50%</th>\n",
       "      <td>2.190276e+07</td>\n",
       "      <td>6.103789e+07</td>\n",
       "      <td>40.418510</td>\n",
       "      <td>-3.701520</td>\n",
       "      <td>60.00000</td>\n",
       "      <td>2.000000</td>\n",
       "      <td>9.000000</td>\n",
       "      <td>1.425000</td>\n",
       "      <td>2.000000</td>\n",
       "      <td>124.000000</td>\n",
       "    </tr>\n",
       "    <tr>\n",
       "      <th>75%</th>\n",
       "      <td>2.953546e+07</td>\n",
       "      <td>1.388107e+08</td>\n",
       "      <td>40.427620</td>\n",
       "      <td>-3.692240</td>\n",
       "      <td>98.00000</td>\n",
       "      <td>3.000000</td>\n",
       "      <td>42.000000</td>\n",
       "      <td>3.110000</td>\n",
       "      <td>8.000000</td>\n",
       "      <td>286.000000</td>\n",
       "    </tr>\n",
       "    <tr>\n",
       "      <th>max</th>\n",
       "      <td>3.469610e+07</td>\n",
       "      <td>2.617170e+08</td>\n",
       "      <td>40.580150</td>\n",
       "      <td>-3.520260</td>\n",
       "      <td>9999.00000</td>\n",
       "      <td>1124.000000</td>\n",
       "      <td>573.000000</td>\n",
       "      <td>20.530000</td>\n",
       "      <td>230.000000</td>\n",
       "      <td>365.000000</td>\n",
       "    </tr>\n",
       "  </tbody>\n",
       "</table>\n",
       "</div>"
      ],
      "text/plain": [
       "                 id       host_id      latitude     longitude        price  \\\n",
       "count  1.880800e+04  1.880800e+04  18808.000000  18808.000000  18808.00000   \n",
       "mean   2.097478e+07  8.627014e+07     40.420267     -3.695638    122.31678   \n",
       "std    9.810985e+06  7.749516e+07      0.020824      0.026134    360.60064   \n",
       "min    6.369000e+03  5.154000e+03     40.319600     -3.886430      1.00000   \n",
       "25%    1.424060e+07  1.872099e+07     40.409867     -3.707570     37.00000   \n",
       "50%    2.190276e+07  6.103789e+07     40.418510     -3.701520     60.00000   \n",
       "75%    2.953546e+07  1.388107e+08     40.427620     -3.692240     98.00000   \n",
       "max    3.469610e+07  2.617170e+08     40.580150     -3.520260   9999.00000   \n",
       "\n",
       "       minimum_nights  number_of_reviews  reviews_per_month  \\\n",
       "count    18808.000000       18808.000000       14860.000000   \n",
       "mean         4.092726          34.853732           2.054841   \n",
       "std         18.280586          59.023326           1.966534   \n",
       "min          1.000000           0.000000           0.010000   \n",
       "25%          1.000000           1.000000           0.480000   \n",
       "50%          2.000000           9.000000           1.425000   \n",
       "75%          3.000000          42.000000           3.110000   \n",
       "max       1124.000000         573.000000          20.530000   \n",
       "\n",
       "       calculated_host_listings_count  availability_365  \n",
       "count                    18808.000000      18808.000000  \n",
       "mean                        12.150468        150.284666  \n",
       "std                         30.255443        128.518601  \n",
       "min                          1.000000          0.000000  \n",
       "25%                          1.000000         23.000000  \n",
       "50%                          2.000000        124.000000  \n",
       "75%                          8.000000        286.000000  \n",
       "max                        230.000000        365.000000  "
      ]
     },
     "execution_count": 89,
     "metadata": {},
     "output_type": "execute_result"
    }
   ],
   "source": [
    "airbnb = pd.read_csv(\"data.csv\")\n",
    "print(airbnb.shape)\n",
    "airbnb.describe()"
   ]
  },
  {
   "cell_type": "markdown",
   "metadata": {},
   "source": [
    "For this analysis, we are only going to use those ads that rent the whole apartment\n",
    "It would be great to have the number of rooms per apartment to reach a more granular level. However, this information is not included in the dataset "
   ]
  },
  {
   "cell_type": "code",
   "execution_count": 90,
   "metadata": {},
   "outputs": [
    {
     "data": {
      "text/plain": [
       "(10956, 16)"
      ]
     },
     "execution_count": 90,
     "metadata": {},
     "output_type": "execute_result"
    }
   ],
   "source": [
    "#removing price outliers\n",
    "\n",
    "airbnb_clean = airbnb[airbnb[\"price\"]<250]\n",
    "airbnb_clean = airbnb_clean[airbnb_clean[\"price\"]>15]\n",
    "\n",
    "#for this analisys we are only going to use  those adds that rent the whole aparment\n",
    "airbnb_clean = airbnb_clean[airbnb_clean[\"room_type\"] == \"Entire home/apt\"]\n",
    "\n",
    "airbnb_clean.shape\n"
   ]
  },
  {
   "cell_type": "code",
   "execution_count": 91,
   "metadata": {},
   "outputs": [
    {
     "name": "stdout",
     "output_type": "stream",
     "text": [
      "There were 123 neighbourhoods in the dataset\n",
      "After removing those with just a few apartments, we have 38\n"
     ]
    }
   ],
   "source": [
    "#checking the number of registers per neighbourhood \n",
    "#we are going to define a minimum threshold of 50 apartments for neighbourhood\n",
    "\n",
    "neighbourhood = airbnb_clean[\"neighbourhood\"].value_counts()\n",
    "print(\"There were\", neighbourhood.count(), \"neighbourhoods in the dataset\")\n",
    "neighbourhood = neighbourhood[neighbourhood > 50]\n",
    "print(\"After removing those with just a few apartments, we have\", neighbourhood.count())\n",
    "neighbourhood_list = neighbourhood.index"
   ]
  },
  {
   "cell_type": "code",
   "execution_count": 92,
   "metadata": {},
   "outputs": [],
   "source": [
    "#filtering out the neighbourhoods with just a few apartments\n",
    "\n",
    "neighbourhood_list = list(neighbourhood_list)\n",
    "bool_neighbourhood = list(map(lambda x: x in neighbourhood_list, airbnb_clean[\"neighbourhood\"]))\n",
    "airbnb_clean = airbnb_clean[bool_neighbourhood]"
   ]
  },
  {
   "cell_type": "code",
   "execution_count": 93,
   "metadata": {},
   "outputs": [
    {
     "data": {
      "text/html": [
       "<div>\n",
       "<style scoped>\n",
       "    .dataframe tbody tr th:only-of-type {\n",
       "        vertical-align: middle;\n",
       "    }\n",
       "\n",
       "    .dataframe tbody tr th {\n",
       "        vertical-align: top;\n",
       "    }\n",
       "\n",
       "    .dataframe thead th {\n",
       "        text-align: right;\n",
       "    }\n",
       "</style>\n",
       "<table border=\"1\" class=\"dataframe\">\n",
       "  <thead>\n",
       "    <tr style=\"text-align: right;\">\n",
       "      <th></th>\n",
       "      <th>id</th>\n",
       "      <th>latitude</th>\n",
       "      <th>longitude</th>\n",
       "      <th>price</th>\n",
       "    </tr>\n",
       "    <tr>\n",
       "      <th>neighbourhood</th>\n",
       "      <th></th>\n",
       "      <th></th>\n",
       "      <th></th>\n",
       "      <th></th>\n",
       "    </tr>\n",
       "  </thead>\n",
       "  <tbody>\n",
       "    <tr>\n",
       "      <th>Acacias</th>\n",
       "      <td>90</td>\n",
       "      <td>40.402446</td>\n",
       "      <td>-3.705229</td>\n",
       "      <td>74.011111</td>\n",
       "    </tr>\n",
       "    <tr>\n",
       "      <th>Adelfas</th>\n",
       "      <td>59</td>\n",
       "      <td>40.400430</td>\n",
       "      <td>-3.670911</td>\n",
       "      <td>72.050847</td>\n",
       "    </tr>\n",
       "    <tr>\n",
       "      <th>Almagro</th>\n",
       "      <td>114</td>\n",
       "      <td>40.433821</td>\n",
       "      <td>-3.694432</td>\n",
       "      <td>100.254386</td>\n",
       "    </tr>\n",
       "  </tbody>\n",
       "</table>\n",
       "</div>"
      ],
      "text/plain": [
       "                id   latitude  longitude       price\n",
       "neighbourhood                                       \n",
       "Acacias         90  40.402446  -3.705229   74.011111\n",
       "Adelfas         59  40.400430  -3.670911   72.050847\n",
       "Almagro        114  40.433821  -3.694432  100.254386"
      ]
     },
     "execution_count": 93,
     "metadata": {},
     "output_type": "execute_result"
    }
   ],
   "source": [
    "#now let´s create a table with the information we are interested in:\n",
    "    # number of apartments per neighbourhood\n",
    "    # median latitude and longitude for the map representation\n",
    "    # average price of the apartment\n",
    "\n",
    "table_neighbourhood = airbnb_clean.pivot_table( \n",
    "                                  values=['id','latitude', 'longitude', 'price'], \n",
    "                                  index=['neighbourhood'], \n",
    "                                  aggfunc={'id': pd.Series.nunique, 'latitude': np.mean, 'longitude': np.mean, 'price': np.mean})\n",
    "\n",
    "table_neighbourhood.head(3)"
   ]
  },
  {
   "cell_type": "code",
   "execution_count": 94,
   "metadata": {},
   "outputs": [],
   "source": [
    "table_neighbourhood.to_csv(r'table_neighbourhood.csv')"
   ]
  },
  {
   "cell_type": "markdown",
   "metadata": {},
   "source": [
    "In the following map, the data from the previous table is represented. \n",
    "\n",
    "The main goal of this project is therefore achieved. Since in the map, it is possible to recognize areas of Madrid with high demand (high prices) and not a very high offer (low number of apartments)"
   ]
  },
  {
   "cell_type": "code",
   "execution_count": 97,
   "metadata": {},
   "outputs": [
    {
     "data": {
      "text/html": [
       "<div class='tableauPlaceholder' id='viz1561470500183' style='position: relative'><noscript><a href='#'><img alt=' ' src='https:&#47;&#47;public.tableau.com&#47;static&#47;images&#47;Un&#47;UncoveringrealestateinvestmentopportunitiesinMadrid&#47;Dashboard1&#47;1_rss.png' style='border: none' /></a></noscript><object class='tableauViz'  style='display:none;'><param name='host_url' value='https%3A%2F%2Fpublic.tableau.com%2F' /> <param name='embed_code_version' value='3' /> <param name='path' value='views&#47;UncoveringrealestateinvestmentopportunitiesinMadrid&#47;Dashboard1?:embed=y&amp;:display_count=y&amp;publish=yes' /> <param name='toolbar' value='yes' /><param name='static_image' value='https:&#47;&#47;public.tableau.com&#47;static&#47;images&#47;Un&#47;UncoveringrealestateinvestmentopportunitiesinMadrid&#47;Dashboard1&#47;1.png' /> <param name='animate_transition' value='yes' /><param name='display_static_image' value='yes' /><param name='display_spinner' value='yes' /><param name='display_overlay' value='yes' /><param name='display_count' value='yes' /><param name='filter' value='publish=yes' /></object></div>                <script type='text/javascript'>                    var divElement = document.getElementById('viz1561470500183');                    var vizElement = divElement.getElementsByTagName('object')[0];                    vizElement.style.width='100%';vizElement.style.height=(divElement.offsetWidth*0.75)+'px';                    var scriptElement = document.createElement('script');                    scriptElement.src = 'https://public.tableau.com/javascripts/api/viz_v1.js';                    vizElement.parentNode.insertBefore(scriptElement, vizElement);                </script>\n"
      ],
      "text/plain": [
       "<IPython.core.display.HTML object>"
      ]
     },
     "metadata": {},
     "output_type": "display_data"
    }
   ],
   "source": [
    "%%HTML\n",
    "<div class='tableauPlaceholder' id='viz1561470500183' style='position: relative'><noscript><a href='#'><img alt=' ' src='https:&#47;&#47;public.tableau.com&#47;static&#47;images&#47;Un&#47;UncoveringrealestateinvestmentopportunitiesinMadrid&#47;Dashboard1&#47;1_rss.png' style='border: none' /></a></noscript><object class='tableauViz'  style='display:none;'><param name='host_url' value='https%3A%2F%2Fpublic.tableau.com%2F' /> <param name='embed_code_version' value='3' /> <param name='path' value='views&#47;UncoveringrealestateinvestmentopportunitiesinMadrid&#47;Dashboard1?:embed=y&amp;:display_count=y&amp;publish=yes' /> <param name='toolbar' value='yes' /><param name='static_image' value='https:&#47;&#47;public.tableau.com&#47;static&#47;images&#47;Un&#47;UncoveringrealestateinvestmentopportunitiesinMadrid&#47;Dashboard1&#47;1.png' /> <param name='animate_transition' value='yes' /><param name='display_static_image' value='yes' /><param name='display_spinner' value='yes' /><param name='display_overlay' value='yes' /><param name='display_count' value='yes' /><param name='filter' value='publish=yes' /></object></div>                <script type='text/javascript'>                    var divElement = document.getElementById('viz1561470500183');                    var vizElement = divElement.getElementsByTagName('object')[0];                    vizElement.style.width='100%';vizElement.style.height=(divElement.offsetWidth*0.75)+'px';                    var scriptElement = document.createElement('script');                    scriptElement.src = 'https://public.tableau.com/javascripts/api/viz_v1.js';                    vizElement.parentNode.insertBefore(scriptElement, vizElement);                </script>"
   ]
  },
  {
   "cell_type": "markdown",
   "metadata": {},
   "source": [
    "If you want to play further with this map you can also find it at: https://public.tableau.com/views/UncoveringrealestateinvestmentopportunitiesinMadrid/Dashboard1?:embed=y&:display_count=yes&publish=yes&:origin=viz_share_link"
   ]
  },
  {
   "cell_type": "code",
   "execution_count": null,
   "metadata": {},
   "outputs": [],
   "source": []
  }
 ],
 "metadata": {
  "kernelspec": {
   "display_name": "Python 3",
   "language": "python",
   "name": "python3"
  },
  "language_info": {
   "codemirror_mode": {
    "name": "ipython",
    "version": 3
   },
   "file_extension": ".py",
   "mimetype": "text/x-python",
   "name": "python",
   "nbconvert_exporter": "python",
   "pygments_lexer": "ipython3",
   "version": "3.7.3"
  }
 },
 "nbformat": 4,
 "nbformat_minor": 2
}
